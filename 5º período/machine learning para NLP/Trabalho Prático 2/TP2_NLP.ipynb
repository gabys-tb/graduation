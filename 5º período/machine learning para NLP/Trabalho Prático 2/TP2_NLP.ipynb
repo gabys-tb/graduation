{
  "cells": [
    {
      "cell_type": "markdown",
      "metadata": {
        "id": "uSCxBGJ0Qy7V"
      },
      "source": [
        "# Trabalho Prático 2 - NLP\n",
        "### Especificação:\n",
        "Nosso objetivo é estudar a tarefa de POS Tagging para a língua Portuguesa. Para isso utilizaremos o corpus Mac-Morpho, produzido pelo grupo NILC da ICMC USP. O Mac-Morpho oferece dados para treinamento, validação e teste de modelos preditivos, capazes de classificar a classe gramatical de palavras em Português. Para acessar o conjunto de classes, acesse http://nilc.icmc.usp.br/macmorpho/macmorpho-manual.pdf.\n",
        "\n",
        "O corpus está disponível em http://nilc.icmc.usp.br/macmorpho/macmorpho-v3.tgz. Você deverá implementar e avaliar a precisão de um modelo de POS tagging, a sua escolha. Voce pode utilizar pacotes que facilitem a implementação, como gensim, e transformers. Você deverá entregar documentação embutida em um notebook, detalhando a tarefa, a metodologia e os resultados. Sua análise deverá discutir quais as classes gramaticais para as quais a precisão é maior/menor. Não utilizaremos LLMs para essa tarefa, mas a sugestão é utilizar Transformers disponiveis e pre-treinados, em especial o BERT.\n"
      ]
    },
    {
      "cell_type": "code",
      "execution_count": 55,
      "metadata": {
        "colab": {
          "base_uri": "https://localhost:8080/"
        },
        "id": "UCdgmMbAQy7a",
        "outputId": "036761f5-3e1f-40af-8f65-e288c938fd5a"
      },
      "outputs": [
        {
          "name": "stdout",
          "output_type": "stream",
          "text": [
            "Requirement already satisfied: transformers in /usr/local/lib/python3.10/dist-packages (4.35.2)\n",
            "Requirement already satisfied: pandas in /usr/local/lib/python3.10/dist-packages (1.5.3)\n",
            "Requirement already satisfied: filelock in /usr/local/lib/python3.10/dist-packages (from transformers) (3.13.1)\n",
            "Requirement already satisfied: huggingface-hub<1.0,>=0.16.4 in /usr/local/lib/python3.10/dist-packages (from transformers) (0.19.4)\n",
            "Requirement already satisfied: numpy>=1.17 in /usr/local/lib/python3.10/dist-packages (from transformers) (1.23.5)\n",
            "Requirement already satisfied: packaging>=20.0 in /usr/local/lib/python3.10/dist-packages (from transformers) (23.2)\n",
            "Requirement already satisfied: pyyaml>=5.1 in /usr/local/lib/python3.10/dist-packages (from transformers) (6.0.1)\n",
            "Requirement already satisfied: regex!=2019.12.17 in /usr/local/lib/python3.10/dist-packages (from transformers) (2023.6.3)\n",
            "Requirement already satisfied: requests in /usr/local/lib/python3.10/dist-packages (from transformers) (2.31.0)\n",
            "Requirement already satisfied: tokenizers<0.19,>=0.14 in /usr/local/lib/python3.10/dist-packages (from transformers) (0.15.0)\n",
            "Requirement already satisfied: safetensors>=0.3.1 in /usr/local/lib/python3.10/dist-packages (from transformers) (0.4.1)\n",
            "Requirement already satisfied: tqdm>=4.27 in /usr/local/lib/python3.10/dist-packages (from transformers) (4.66.1)\n",
            "Requirement already satisfied: python-dateutil>=2.8.1 in /usr/local/lib/python3.10/dist-packages (from pandas) (2.8.2)\n",
            "Requirement already satisfied: pytz>=2020.1 in /usr/local/lib/python3.10/dist-packages (from pandas) (2023.3.post1)\n",
            "Requirement already satisfied: fsspec>=2023.5.0 in /usr/local/lib/python3.10/dist-packages (from huggingface-hub<1.0,>=0.16.4->transformers) (2023.6.0)\n",
            "Requirement already satisfied: typing-extensions>=3.7.4.3 in /usr/local/lib/python3.10/dist-packages (from huggingface-hub<1.0,>=0.16.4->transformers) (4.5.0)\n",
            "Requirement already satisfied: six>=1.5 in /usr/local/lib/python3.10/dist-packages (from python-dateutil>=2.8.1->pandas) (1.16.0)\n",
            "Requirement already satisfied: charset-normalizer<4,>=2 in /usr/local/lib/python3.10/dist-packages (from requests->transformers) (3.3.2)\n",
            "Requirement already satisfied: idna<4,>=2.5 in /usr/local/lib/python3.10/dist-packages (from requests->transformers) (3.6)\n",
            "Requirement already satisfied: urllib3<3,>=1.21.1 in /usr/local/lib/python3.10/dist-packages (from requests->transformers) (2.0.7)\n",
            "Requirement already satisfied: certifi>=2017.4.17 in /usr/local/lib/python3.10/dist-packages (from requests->transformers) (2023.11.17)\n"
          ]
        }
      ],
      "source": [
        "!pip install transformers pandas"
      ]
    },
    {
      "cell_type": "code",
      "execution_count": 56,
      "metadata": {
        "id": "eABQDxHJQy7c"
      },
      "outputs": [],
      "source": [
        "import pandas as pd"
      ]
    },
    {
      "cell_type": "markdown",
      "metadata": {
        "id": "NOdvmR0iQy7d"
      },
      "source": [
        "### Leitura do Corpus"
      ]
    },
    {
      "cell_type": "code",
      "execution_count": 57,
      "metadata": {
        "colab": {
          "base_uri": "https://localhost:8080/"
        },
        "id": "yBY_-SMgQy7d",
        "outputId": "ce46c9e9-4366-4a2c-97a5-df27d860a5aa"
      },
      "outputs": [
        {
          "name": "stdout",
          "output_type": "stream",
          "text": [
            "--2023-12-13 01:01:27--  http://nilc.icmc.usp.br/macmorpho/macmorpho-v3.tgz\n",
            "Resolving nilc.icmc.usp.br (nilc.icmc.usp.br)... 143.107.183.225\n",
            "Connecting to nilc.icmc.usp.br (nilc.icmc.usp.br)|143.107.183.225|:80... connected.\n",
            "HTTP request sent, awaiting response... 200 OK\n",
            "Length: 2463485 (2.3M) [application/x-gzip]\n",
            "Saving to: ‘macmorpho-v3.tgz.1’\n",
            "\n",
            "macmorpho-v3.tgz.1  100%[===================>]   2.35M  1.05MB/s    in 2.2s    \n",
            "\n",
            "2023-12-13 01:01:30 (1.05 MB/s) - ‘macmorpho-v3.tgz.1’ saved [2463485/2463485]\n",
            "\n",
            "macmorpho-dev.txt\n",
            "macmorpho-test.txt\n",
            "macmorpho-train.txt\n"
          ]
        }
      ],
      "source": [
        "!wget http://nilc.icmc.usp.br/macmorpho/macmorpho-v3.tgz\n",
        "!tar zxvf macmorpho-v3.tgz"
      ]
    },
    {
      "cell_type": "code",
      "execution_count": 58,
      "metadata": {
        "colab": {
          "base_uri": "https://localhost:8080/",
          "height": 423
        },
        "id": "MA0MbRpKQy7e",
        "outputId": "55b99dd0-20e5-4a03-a373-127a991349af"
      },
      "outputs": [
        {
          "data": {
            "text/html": [
              "\n",
              "  <div id=\"df-6950b057-bee8-45f5-9b85-ebdb91a7d4b8\" class=\"colab-df-container\">\n",
              "    <div>\n",
              "<style scoped>\n",
              "    .dataframe tbody tr th:only-of-type {\n",
              "        vertical-align: middle;\n",
              "    }\n",
              "\n",
              "    .dataframe tbody tr th {\n",
              "        vertical-align: top;\n",
              "    }\n",
              "\n",
              "    .dataframe thead th {\n",
              "        text-align: right;\n",
              "    }\n",
              "</style>\n",
              "<table border=\"1\" class=\"dataframe\">\n",
              "  <thead>\n",
              "    <tr style=\"text-align: right;\">\n",
              "      <th></th>\n",
              "      <th>text</th>\n",
              "      <th>tag</th>\n",
              "    </tr>\n",
              "  </thead>\n",
              "  <tbody>\n",
              "    <tr>\n",
              "      <th>0</th>\n",
              "      <td>Salto sete</td>\n",
              "      <td>[N, ADJ]</td>\n",
              "    </tr>\n",
              "    <tr>\n",
              "      <th>1</th>\n",
              "      <td>O grande assunto da semana em Nova York é a e...</td>\n",
              "      <td>[ART, ADJ, N, PREP+ART, N, PREP, NPROP, NPROP,...</td>\n",
              "    </tr>\n",
              "    <tr>\n",
              "      <th>2</th>\n",
              "      <td>Número duplo especial , é inteirinho dedicado...</td>\n",
              "      <td>[N, ADJ, ADJ, PU, V, ADJ, PCP, PREP, N, PREP, ...</td>\n",
              "    </tr>\n",
              "    <tr>\n",
              "      <th>3</th>\n",
              "      <td>A endiabrada editora Tina Brown ex da \" Vanit...</td>\n",
              "      <td>[ART, PCP, N, NPROP, NPROP, N, PREP+ART, PU, N...</td>\n",
              "    </tr>\n",
              "    <tr>\n",
              "      <th>4</th>\n",
              "      <td>Além das fotos de Richard Avedon .</td>\n",
              "      <td>[PREP, PREP+ART, N, PREP, NPROP, NPROP, PU]</td>\n",
              "    </tr>\n",
              "    <tr>\n",
              "      <th>...</th>\n",
              "      <td>...</td>\n",
              "      <td>...</td>\n",
              "    </tr>\n",
              "    <tr>\n",
              "      <th>9982</th>\n",
              "      <td>2 Em abril do ano passado , o nacionalista ir...</td>\n",
              "      <td>[NUM, PREP, N, PREP+ART, N, PCP, PU, ART, N, A...</td>\n",
              "    </tr>\n",
              "    <tr>\n",
              "      <th>9983</th>\n",
              "      <td>William Ross é deputado no Parlamento britâni...</td>\n",
              "      <td>[NPROP, NPROP, V, N, PREP+ART, N, ADJ, PREP+AR...</td>\n",
              "    </tr>\n",
              "    <tr>\n",
              "      <th>9984</th>\n",
              "      <td>John Major , sem dúvida , vai querer uma prom...</td>\n",
              "      <td>[NPROP, NPROP, PU, PREP, N, PU, V, V, ART, N, ...</td>\n",
              "    </tr>\n",
              "    <tr>\n",
              "      <th>9985</th>\n",
              "      <td>Mas se o tempo mostrar que o Ira realmente pa...</td>\n",
              "      <td>[KC, KS, ART, N, V, KS, ART, NPROP, ADV, V, PR...</td>\n",
              "    </tr>\n",
              "    <tr>\n",
              "      <th>9986</th>\n",
              "      <td>O premiê da Itália , Silvio Berlusconi , nego...</td>\n",
              "      <td>[ART, N, PREP+ART, NPROP, PU, NPROP, NPROP, PU...</td>\n",
              "    </tr>\n",
              "  </tbody>\n",
              "</table>\n",
              "<p>9987 rows × 2 columns</p>\n",
              "</div>\n",
              "    <div class=\"colab-df-buttons\">\n",
              "\n",
              "  <div class=\"colab-df-container\">\n",
              "    <button class=\"colab-df-convert\" onclick=\"convertToInteractive('df-6950b057-bee8-45f5-9b85-ebdb91a7d4b8')\"\n",
              "            title=\"Convert this dataframe to an interactive table.\"\n",
              "            style=\"display:none;\">\n",
              "\n",
              "  <svg xmlns=\"http://www.w3.org/2000/svg\" height=\"24px\" viewBox=\"0 -960 960 960\">\n",
              "    <path d=\"M120-120v-720h720v720H120Zm60-500h600v-160H180v160Zm220 220h160v-160H400v160Zm0 220h160v-160H400v160ZM180-400h160v-160H180v160Zm440 0h160v-160H620v160ZM180-180h160v-160H180v160Zm440 0h160v-160H620v160Z\"/>\n",
              "  </svg>\n",
              "    </button>\n",
              "\n",
              "  <style>\n",
              "    .colab-df-container {\n",
              "      display:flex;\n",
              "      gap: 12px;\n",
              "    }\n",
              "\n",
              "    .colab-df-convert {\n",
              "      background-color: #E8F0FE;\n",
              "      border: none;\n",
              "      border-radius: 50%;\n",
              "      cursor: pointer;\n",
              "      display: none;\n",
              "      fill: #1967D2;\n",
              "      height: 32px;\n",
              "      padding: 0 0 0 0;\n",
              "      width: 32px;\n",
              "    }\n",
              "\n",
              "    .colab-df-convert:hover {\n",
              "      background-color: #E2EBFA;\n",
              "      box-shadow: 0px 1px 2px rgba(60, 64, 67, 0.3), 0px 1px 3px 1px rgba(60, 64, 67, 0.15);\n",
              "      fill: #174EA6;\n",
              "    }\n",
              "\n",
              "    .colab-df-buttons div {\n",
              "      margin-bottom: 4px;\n",
              "    }\n",
              "\n",
              "    [theme=dark] .colab-df-convert {\n",
              "      background-color: #3B4455;\n",
              "      fill: #D2E3FC;\n",
              "    }\n",
              "\n",
              "    [theme=dark] .colab-df-convert:hover {\n",
              "      background-color: #434B5C;\n",
              "      box-shadow: 0px 1px 3px 1px rgba(0, 0, 0, 0.15);\n",
              "      filter: drop-shadow(0px 1px 2px rgba(0, 0, 0, 0.3));\n",
              "      fill: #FFFFFF;\n",
              "    }\n",
              "  </style>\n",
              "\n",
              "    <script>\n",
              "      const buttonEl =\n",
              "        document.querySelector('#df-6950b057-bee8-45f5-9b85-ebdb91a7d4b8 button.colab-df-convert');\n",
              "      buttonEl.style.display =\n",
              "        google.colab.kernel.accessAllowed ? 'block' : 'none';\n",
              "\n",
              "      async function convertToInteractive(key) {\n",
              "        const element = document.querySelector('#df-6950b057-bee8-45f5-9b85-ebdb91a7d4b8');\n",
              "        const dataTable =\n",
              "          await google.colab.kernel.invokeFunction('convertToInteractive',\n",
              "                                                    [key], {});\n",
              "        if (!dataTable) return;\n",
              "\n",
              "        const docLinkHtml = 'Like what you see? Visit the ' +\n",
              "          '<a target=\"_blank\" href=https://colab.research.google.com/notebooks/data_table.ipynb>data table notebook</a>'\n",
              "          + ' to learn more about interactive tables.';\n",
              "        element.innerHTML = '';\n",
              "        dataTable['output_type'] = 'display_data';\n",
              "        await google.colab.output.renderOutput(dataTable, element);\n",
              "        const docLink = document.createElement('div');\n",
              "        docLink.innerHTML = docLinkHtml;\n",
              "        element.appendChild(docLink);\n",
              "      }\n",
              "    </script>\n",
              "  </div>\n",
              "\n",
              "\n",
              "<div id=\"df-032ae7fc-f374-435b-a62a-f01830962cfc\">\n",
              "  <button class=\"colab-df-quickchart\" onclick=\"quickchart('df-032ae7fc-f374-435b-a62a-f01830962cfc')\"\n",
              "            title=\"Suggest charts\"\n",
              "            style=\"display:none;\">\n",
              "\n",
              "<svg xmlns=\"http://www.w3.org/2000/svg\" height=\"24px\"viewBox=\"0 0 24 24\"\n",
              "     width=\"24px\">\n",
              "    <g>\n",
              "        <path d=\"M19 3H5c-1.1 0-2 .9-2 2v14c0 1.1.9 2 2 2h14c1.1 0 2-.9 2-2V5c0-1.1-.9-2-2-2zM9 17H7v-7h2v7zm4 0h-2V7h2v10zm4 0h-2v-4h2v4z\"/>\n",
              "    </g>\n",
              "</svg>\n",
              "  </button>\n",
              "\n",
              "<style>\n",
              "  .colab-df-quickchart {\n",
              "      --bg-color: #E8F0FE;\n",
              "      --fill-color: #1967D2;\n",
              "      --hover-bg-color: #E2EBFA;\n",
              "      --hover-fill-color: #174EA6;\n",
              "      --disabled-fill-color: #AAA;\n",
              "      --disabled-bg-color: #DDD;\n",
              "  }\n",
              "\n",
              "  [theme=dark] .colab-df-quickchart {\n",
              "      --bg-color: #3B4455;\n",
              "      --fill-color: #D2E3FC;\n",
              "      --hover-bg-color: #434B5C;\n",
              "      --hover-fill-color: #FFFFFF;\n",
              "      --disabled-bg-color: #3B4455;\n",
              "      --disabled-fill-color: #666;\n",
              "  }\n",
              "\n",
              "  .colab-df-quickchart {\n",
              "    background-color: var(--bg-color);\n",
              "    border: none;\n",
              "    border-radius: 50%;\n",
              "    cursor: pointer;\n",
              "    display: none;\n",
              "    fill: var(--fill-color);\n",
              "    height: 32px;\n",
              "    padding: 0;\n",
              "    width: 32px;\n",
              "  }\n",
              "\n",
              "  .colab-df-quickchart:hover {\n",
              "    background-color: var(--hover-bg-color);\n",
              "    box-shadow: 0 1px 2px rgba(60, 64, 67, 0.3), 0 1px 3px 1px rgba(60, 64, 67, 0.15);\n",
              "    fill: var(--button-hover-fill-color);\n",
              "  }\n",
              "\n",
              "  .colab-df-quickchart-complete:disabled,\n",
              "  .colab-df-quickchart-complete:disabled:hover {\n",
              "    background-color: var(--disabled-bg-color);\n",
              "    fill: var(--disabled-fill-color);\n",
              "    box-shadow: none;\n",
              "  }\n",
              "\n",
              "  .colab-df-spinner {\n",
              "    border: 2px solid var(--fill-color);\n",
              "    border-color: transparent;\n",
              "    border-bottom-color: var(--fill-color);\n",
              "    animation:\n",
              "      spin 1s steps(1) infinite;\n",
              "  }\n",
              "\n",
              "  @keyframes spin {\n",
              "    0% {\n",
              "      border-color: transparent;\n",
              "      border-bottom-color: var(--fill-color);\n",
              "      border-left-color: var(--fill-color);\n",
              "    }\n",
              "    20% {\n",
              "      border-color: transparent;\n",
              "      border-left-color: var(--fill-color);\n",
              "      border-top-color: var(--fill-color);\n",
              "    }\n",
              "    30% {\n",
              "      border-color: transparent;\n",
              "      border-left-color: var(--fill-color);\n",
              "      border-top-color: var(--fill-color);\n",
              "      border-right-color: var(--fill-color);\n",
              "    }\n",
              "    40% {\n",
              "      border-color: transparent;\n",
              "      border-right-color: var(--fill-color);\n",
              "      border-top-color: var(--fill-color);\n",
              "    }\n",
              "    60% {\n",
              "      border-color: transparent;\n",
              "      border-right-color: var(--fill-color);\n",
              "    }\n",
              "    80% {\n",
              "      border-color: transparent;\n",
              "      border-right-color: var(--fill-color);\n",
              "      border-bottom-color: var(--fill-color);\n",
              "    }\n",
              "    90% {\n",
              "      border-color: transparent;\n",
              "      border-bottom-color: var(--fill-color);\n",
              "    }\n",
              "  }\n",
              "</style>\n",
              "\n",
              "  <script>\n",
              "    async function quickchart(key) {\n",
              "      const quickchartButtonEl =\n",
              "        document.querySelector('#' + key + ' button');\n",
              "      quickchartButtonEl.disabled = true;  // To prevent multiple clicks.\n",
              "      quickchartButtonEl.classList.add('colab-df-spinner');\n",
              "      try {\n",
              "        const charts = await google.colab.kernel.invokeFunction(\n",
              "            'suggestCharts', [key], {});\n",
              "      } catch (error) {\n",
              "        console.error('Error during call to suggestCharts:', error);\n",
              "      }\n",
              "      quickchartButtonEl.classList.remove('colab-df-spinner');\n",
              "      quickchartButtonEl.classList.add('colab-df-quickchart-complete');\n",
              "    }\n",
              "    (() => {\n",
              "      let quickchartButtonEl =\n",
              "        document.querySelector('#df-032ae7fc-f374-435b-a62a-f01830962cfc button');\n",
              "      quickchartButtonEl.style.display =\n",
              "        google.colab.kernel.accessAllowed ? 'block' : 'none';\n",
              "    })();\n",
              "  </script>\n",
              "</div>\n",
              "\n",
              "  <div id=\"id_dce05788-e6af-4542-ae84-9c414334352c\">\n",
              "    <style>\n",
              "      .colab-df-generate {\n",
              "        background-color: #E8F0FE;\n",
              "        border: none;\n",
              "        border-radius: 50%;\n",
              "        cursor: pointer;\n",
              "        display: none;\n",
              "        fill: #1967D2;\n",
              "        height: 32px;\n",
              "        padding: 0 0 0 0;\n",
              "        width: 32px;\n",
              "      }\n",
              "\n",
              "      .colab-df-generate:hover {\n",
              "        background-color: #E2EBFA;\n",
              "        box-shadow: 0px 1px 2px rgba(60, 64, 67, 0.3), 0px 1px 3px 1px rgba(60, 64, 67, 0.15);\n",
              "        fill: #174EA6;\n",
              "      }\n",
              "\n",
              "      [theme=dark] .colab-df-generate {\n",
              "        background-color: #3B4455;\n",
              "        fill: #D2E3FC;\n",
              "      }\n",
              "\n",
              "      [theme=dark] .colab-df-generate:hover {\n",
              "        background-color: #434B5C;\n",
              "        box-shadow: 0px 1px 3px 1px rgba(0, 0, 0, 0.15);\n",
              "        filter: drop-shadow(0px 1px 2px rgba(0, 0, 0, 0.3));\n",
              "        fill: #FFFFFF;\n",
              "      }\n",
              "    </style>\n",
              "    <button class=\"colab-df-generate\" onclick=\"generateWithVariable('df_test')\"\n",
              "            title=\"Generate code using this dataframe.\"\n",
              "            style=\"display:none;\">\n",
              "\n",
              "  <svg xmlns=\"http://www.w3.org/2000/svg\" height=\"24px\"viewBox=\"0 0 24 24\"\n",
              "       width=\"24px\">\n",
              "    <path d=\"M7,19H8.4L18.45,9,17,7.55,7,17.6ZM5,21V16.75L18.45,3.32a2,2,0,0,1,2.83,0l1.4,1.43a1.91,1.91,0,0,1,.58,1.4,1.91,1.91,0,0,1-.58,1.4L9.25,21ZM18.45,9,17,7.55Zm-12,3A5.31,5.31,0,0,0,4.9,8.1,5.31,5.31,0,0,0,1,6.5,5.31,5.31,0,0,0,4.9,4.9,5.31,5.31,0,0,0,6.5,1,5.31,5.31,0,0,0,8.1,4.9,5.31,5.31,0,0,0,12,6.5,5.46,5.46,0,0,0,6.5,12Z\"/>\n",
              "  </svg>\n",
              "    </button>\n",
              "    <script>\n",
              "      (() => {\n",
              "      const buttonEl =\n",
              "        document.querySelector('#id_dce05788-e6af-4542-ae84-9c414334352c button.colab-df-generate');\n",
              "      buttonEl.style.display =\n",
              "        google.colab.kernel.accessAllowed ? 'block' : 'none';\n",
              "\n",
              "      buttonEl.onclick = () => {\n",
              "        google.colab.notebook.generateWithVariable('df_test');\n",
              "      }\n",
              "      })();\n",
              "    </script>\n",
              "  </div>\n",
              "\n",
              "    </div>\n",
              "  </div>\n"
            ],
            "text/plain": [
              "                                                   text  \\\n",
              "0                                            Salto sete   \n",
              "1      O grande assunto da semana em Nova York é a e...   \n",
              "2      Número duplo especial , é inteirinho dedicado...   \n",
              "3      A endiabrada editora Tina Brown ex da \" Vanit...   \n",
              "4                    Além das fotos de Richard Avedon .   \n",
              "...                                                 ...   \n",
              "9982   2 Em abril do ano passado , o nacionalista ir...   \n",
              "9983   William Ross é deputado no Parlamento britâni...   \n",
              "9984   John Major , sem dúvida , vai querer uma prom...   \n",
              "9985   Mas se o tempo mostrar que o Ira realmente pa...   \n",
              "9986   O premiê da Itália , Silvio Berlusconi , nego...   \n",
              "\n",
              "                                                    tag  \n",
              "0                                              [N, ADJ]  \n",
              "1     [ART, ADJ, N, PREP+ART, N, PREP, NPROP, NPROP,...  \n",
              "2     [N, ADJ, ADJ, PU, V, ADJ, PCP, PREP, N, PREP, ...  \n",
              "3     [ART, PCP, N, NPROP, NPROP, N, PREP+ART, PU, N...  \n",
              "4           [PREP, PREP+ART, N, PREP, NPROP, NPROP, PU]  \n",
              "...                                                 ...  \n",
              "9982  [NUM, PREP, N, PREP+ART, N, PCP, PU, ART, N, A...  \n",
              "9983  [NPROP, NPROP, V, N, PREP+ART, N, ADJ, PREP+AR...  \n",
              "9984  [NPROP, NPROP, PU, PREP, N, PU, V, V, ART, N, ...  \n",
              "9985  [KC, KS, ART, N, V, KS, ART, NPROP, ADV, V, PR...  \n",
              "9986  [ART, N, PREP+ART, NPROP, PU, NPROP, NPROP, PU...  \n",
              "\n",
              "[9987 rows x 2 columns]"
            ]
          },
          "execution_count": 58,
          "metadata": {},
          "output_type": "execute_result"
        }
      ],
      "source": [
        "def read_files_to_df(tipo):\n",
        "    filename = f\"macmorpho-{tipo}.txt\"\n",
        "    words = []\n",
        "    tags = []\n",
        "    with open(filename, \"r\") as data:\n",
        "        for line in data:\n",
        "            linha = line.split()\n",
        "            sentenca = \"\"\n",
        "            tags_sentenca = []\n",
        "            for word_tag in linha:\n",
        "                word, tag = word_tag.split(\"_\")\n",
        "                sentenca += \" \" + word\n",
        "                tags_sentenca.append(tag)\n",
        "            words.append(sentenca)\n",
        "            tags.append(tags_sentenca)\n",
        "\n",
        "    return pd.DataFrame({'text': words, 'tag': tags})\n",
        "\n",
        "# Ler o arquivo de teste e criar df\n",
        "df_test = read_files_to_df(\"test\")\n",
        "df_test"
      ]
    },
    {
      "cell_type": "markdown",
      "metadata": {
        "id": "PrkVGpqOQy7f"
      },
      "source": [
        "### Importando modelo Pos-Tagger Portuguese\n",
        "\n",
        "O modelo usado é um finetunning do modelo BERTimbau, treinado com o corpus MacMorpho.\n"
      ]
    },
    {
      "cell_type": "code",
      "execution_count": 59,
      "metadata": {
        "id": "5R2fsSpNQy7f"
      },
      "outputs": [],
      "source": [
        "from transformers import AutoModelForTokenClassification, AutoTokenizer\n",
        "import torch\n",
        "import pandas as pd\n",
        "\n",
        "# Carregar tokenizer e modelo\n",
        "tokenizer = AutoTokenizer.from_pretrained(\"lisaterumi/postagger-portuguese\")\n",
        "model = AutoModelForTokenClassification.from_pretrained(\"lisaterumi/postagger-portuguese\")\n"
      ]
    },
    {
      "cell_type": "code",
      "execution_count": 60,
      "metadata": {
        "id": "kdK270ZsQy7g"
      },
      "outputs": [],
      "source": [
        "def pos_tagging(text):\n",
        "    # Tokenizando o texto\n",
        "    inputs = tokenizer(text, return_tensors=\"pt\", padding=True, truncation=True)\n",
        "\n",
        "    # Inferência\n",
        "    outputs = model(**inputs).logits\n",
        "\n",
        "    # Obter o índice da maior logit (previsão)\n",
        "    predictions = torch.argmax(outputs, dim=2)\n",
        "\n",
        "    # Convertendo índice para a tag correspondente\n",
        "    return [model.config.id2label[p.item()] for p in predictions[0]]\n"
      ]
    },
    {
      "cell_type": "markdown",
      "metadata": {
        "id": "VU6gEdmCr1sY"
      },
      "source": [
        "### Testando o modelo"
      ]
    },
    {
      "cell_type": "code",
      "execution_count": 61,
      "metadata": {
        "colab": {
          "base_uri": "https://localhost:8080/"
        },
        "id": "WqVt0biIQy7h",
        "outputId": "8f3a3d28-ed5d-4602-a561-728f863b6b19"
      },
      "outputs": [
        {
          "name": "stderr",
          "output_type": "stream",
          "text": [
            "Asking to truncate to max_length but no maximum length is provided and the model has no predefined maximum length. Default to no truncation.\n"
          ]
        }
      ],
      "source": [
        "df_test['predicted_tag'] = df_test['text'].apply(pos_tagging)\n"
      ]
    },
    {
      "cell_type": "markdown",
      "metadata": {
        "id": "3PjTRPxQQy7i"
      },
      "source": [
        "### Tratando dataframe"
      ]
    },
    {
      "cell_type": "code",
      "execution_count": 62,
      "metadata": {
        "id": "dStRHquPgnI8"
      },
      "outputs": [],
      "source": [
        "def remove_tag_padding(l):\n",
        "  return l[1:len(l)-1]\n"
      ]
    },
    {
      "cell_type": "code",
      "execution_count": 63,
      "metadata": {
        "id": "jCDFHSqGhyW0"
      },
      "outputs": [],
      "source": [
        "# criando coluna de tags previstas sem '<pad>'\n",
        "df_test['clean_predicted'] = df_test['predicted_tag'].apply(remove_tag_padding)"
      ]
    },
    {
      "cell_type": "code",
      "execution_count": 64,
      "metadata": {
        "id": "N4DtbiDAikiJ"
      },
      "outputs": [],
      "source": [
        "# recebe coluna com labels verdadeiras e coluna com labels previstas,e retorna lista com todas labels previstas concatenadas\n",
        "def concatena_labels(true_value, predicted):\n",
        "  true_value_list = true_value.to_list()\n",
        "  predicted_list = predicted.to_list()\n",
        "  predicted_list_clean = []\n",
        "  for i in range(len(true_value_list)):\n",
        "    for j in range(len(true_value[i])):\n",
        "      predicted_list_clean.append(predicted_list[i][j])\n",
        "  return predicted_list_clean\n",
        "\n",
        "predicted_list = concatena_labels(df_test['tag'], df_test['clean_predicted'])\n"
      ]
    },
    {
      "cell_type": "code",
      "execution_count": 65,
      "metadata": {
        "colab": {
          "base_uri": "https://localhost:8080/"
        },
        "id": "VKfDDkk7lLJA",
        "outputId": "3aa29d8d-06b5-4f5e-e86e-e83b5676a690"
      },
      "outputs": [
        {
          "data": {
            "text/plain": [
              "['N', 'ADJ', 'ART', 'ADJ', 'N', 'PREP+ART', 'N', 'PREP', 'NPROP', 'NPROP']"
            ]
          },
          "execution_count": 65,
          "metadata": {},
          "output_type": "execute_result"
        }
      ],
      "source": [
        "# gerando lista com labels verdadeiras\n",
        "ground_truth = []\n",
        "l = df_test['tag'].to_list()\n",
        "for j in range(len(l)):\n",
        "  for i in range(len(l[j])):\n",
        "    ground_truth.append(l[j][i])\n",
        "ground_truth[:10]"
      ]
    },
    {
      "cell_type": "code",
      "execution_count": 66,
      "metadata": {
        "colab": {
          "base_uri": "https://localhost:8080/"
        },
        "id": "Sv9SzhUilKbs",
        "outputId": "d97329c6-de02-4835-ee0f-099aa2144b5d"
      },
      "outputs": [
        {
          "name": "stdout",
          "output_type": "stream",
          "text": [
            "Mean Accuracy: 0.37988372679721705\n"
          ]
        }
      ],
      "source": [
        "from sklearn.metrics import accuracy_score\n",
        "# Comparar com as tags verdadeiras e calcular a precisão\n",
        "accuracy = accuracy_score(ground_truth, predicted_list)\n",
        "print(f'Mean Accuracy: {accuracy}')"
      ]
    },
    {
      "cell_type": "code",
      "execution_count": 67,
      "metadata": {
        "colab": {
          "base_uri": "https://localhost:8080/"
        },
        "id": "9rBYQNNdno58",
        "outputId": "b65f0e11-e863-4e6c-80b1-b7fc995bc1be"
      },
      "outputs": [
        {
          "name": "stdout",
          "output_type": "stream",
          "text": [
            "Classe N: Precisão 0.41\n",
            "Classe ART: Precisão 0.46\n",
            "Classe ADJ: Precisão 0.28\n",
            "Classe PREP+ART: Precisão 0.34\n",
            "Classe PREP: Precisão 0.36\n",
            "Classe NPROP: Precisão 0.40\n",
            "Classe V: Precisão 0.38\n",
            "Classe PU: Precisão 0.41\n",
            "Classe PCP: Precisão 0.24\n",
            "Classe PROPESS: Precisão 0.45\n",
            "Classe PROADJ: Precisão 0.40\n",
            "Classe PDEN: Precisão 0.34\n",
            "Classe KS: Precisão 0.36\n",
            "Classe ADV: Precisão 0.41\n",
            "Classe PROSUB: Precisão 0.51\n",
            "Classe KC: Precisão 0.28\n",
            "Classe PRO-KS: Precisão 0.26\n",
            "Classe NUM: Precisão 0.21\n",
            "Classe PREP+ADV: Precisão 0.58\n",
            "Classe PREP+PROPESS: Precisão 0.35\n",
            "Classe PREP+PROADJ: Precisão 0.48\n",
            "Classe ADV-KS: Precisão 0.22\n",
            "Classe PREP+PROSUB: Precisão 0.39\n",
            "Classe IN: Precisão 0.27\n",
            "Classe PREP+PRO-KS: Precisão 0.21\n"
          ]
        }
      ],
      "source": [
        "from collections import defaultdict\n",
        "\n",
        "def calculate_accuracy_by_class(true_labels, predicted_labels):\n",
        "    # Inicializar dicionários para armazenar verdadeiros positivos, falsos positivos e falsos negativos\n",
        "    true_positives = defaultdict(int)\n",
        "    false_positives = defaultdict(int)\n",
        "    false_negatives = defaultdict(int)\n",
        "\n",
        "    # Calcular verdadeiros positivos, falsos positivos e falsos negativos\n",
        "    for true, pred in zip(true_labels, predicted_labels):\n",
        "        if true == pred:\n",
        "            true_positives[true] += 1\n",
        "        else:\n",
        "            false_positives[pred] += 1\n",
        "            false_negatives[true] += 1\n",
        "\n",
        "    # Calcular precisão por classe\n",
        "    accuracies = {}\n",
        "    for label in true_positives:\n",
        "        # Precisão é verdadeiros positivos divididos pelo total de previsões positivas (verdadeiros positivos + falsos positivos)\n",
        "        # para aquela classe\n",
        "        total_predictions_for_class = true_positives[label] + false_positives[label]\n",
        "        if total_predictions_for_class > 0:\n",
        "            accuracies[label] = true_positives[label] / total_predictions_for_class\n",
        "        else:\n",
        "            accuracies[label] = 0.0  # Se não houve previsões para esta classe, definir precisão como 0\n",
        "\n",
        "    return accuracies\n",
        "\n",
        "\n",
        "# Calcular precisão por classe\n",
        "accuracy_by_class = calculate_accuracy_by_class(ground_truth, predicted_list)\n",
        "\n",
        "# Imprimir a precisão por classe\n",
        "for label, accuracy in accuracy_by_class.items():\n",
        "    print(f\"Classe {label}: Precisão {accuracy:.2f}\")"
      ]
    }
  ],
  "metadata": {
    "accelerator": "GPU",
    "colab": {
      "gpuType": "A100",
      "provenance": []
    },
    "kernelspec": {
      "display_name": "Python 3",
      "name": "python3"
    },
    "language_info": {
      "codemirror_mode": {
        "name": "ipython",
        "version": 3
      },
      "file_extension": ".py",
      "mimetype": "text/x-python",
      "name": "python",
      "nbconvert_exporter": "python",
      "pygments_lexer": "ipython3",
      "version": "3.8.10"
    }
  },
  "nbformat": 4,
  "nbformat_minor": 0
}
