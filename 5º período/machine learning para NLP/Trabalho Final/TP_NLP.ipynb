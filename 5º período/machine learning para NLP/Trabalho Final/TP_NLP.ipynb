{
  "cells": [
    {
      "cell_type": "markdown",
      "metadata": {
        "id": "1b034aca"
      },
      "source": [
        "# Trabalho Final - NLP\n",
        "Link da apresentação: https://youtu.be/hoM-RYMYmYQ\n",
        "\n",
        "Trabalho final para a disciplina de Machine Learning para NLP, do curso de Ciência da computação da UFMG. Para o trabalho foi escolhida a base de dados Brazilian E-Commerce Public Dataset by Olist, disponibilizado na Kaggle(https://www.kaggle.com/datasets/olistbr/brazilian-ecommerce)."
      ],
      "id": "1b034aca"
    },
    {
      "cell_type": "code",
      "execution_count": 16,
      "metadata": {
        "colab": {
          "base_uri": "https://localhost:8080/"
        },
        "id": "b1nHELumm3UW",
        "outputId": "832b8896-74da-4756-c2d8-180e2f4e29e5"
      },
      "outputs": [
        {
          "output_type": "stream",
          "name": "stdout",
          "text": [
            "Requirement already satisfied: keras-tuner in /usr/local/lib/python3.10/dist-packages (1.4.6)\n",
            "Requirement already satisfied: keras in /usr/local/lib/python3.10/dist-packages (from keras-tuner) (2.14.0)\n",
            "Requirement already satisfied: packaging in /usr/local/lib/python3.10/dist-packages (from keras-tuner) (23.2)\n",
            "Requirement already satisfied: requests in /usr/local/lib/python3.10/dist-packages (from keras-tuner) (2.31.0)\n",
            "Requirement already satisfied: kt-legacy in /usr/local/lib/python3.10/dist-packages (from keras-tuner) (1.0.5)\n",
            "Requirement already satisfied: charset-normalizer<4,>=2 in /usr/local/lib/python3.10/dist-packages (from requests->keras-tuner) (3.3.2)\n",
            "Requirement already satisfied: idna<4,>=2.5 in /usr/local/lib/python3.10/dist-packages (from requests->keras-tuner) (3.6)\n",
            "Requirement already satisfied: urllib3<3,>=1.21.1 in /usr/local/lib/python3.10/dist-packages (from requests->keras-tuner) (2.0.7)\n",
            "Requirement already satisfied: certifi>=2017.4.17 in /usr/local/lib/python3.10/dist-packages (from requests->keras-tuner) (2023.11.17)\n"
          ]
        }
      ],
      "source": [
        "pip install keras-tuner"
      ],
      "id": "b1nHELumm3UW"
    },
    {
      "cell_type": "markdown",
      "metadata": {
        "id": "7fbff725"
      },
      "source": [
        "### Importando módulos"
      ],
      "id": "7fbff725"
    },
    {
      "cell_type": "code",
      "execution_count": 17,
      "metadata": {
        "id": "e5610bc5"
      },
      "outputs": [],
      "source": [
        "from argparse import Namespace\n",
        "\n",
        "import tensorflow as tf\n",
        "from tensorflow.keras.preprocessing.text import Tokenizer\n",
        "from tensorflow.keras.preprocessing.sequence import pad_sequences\n",
        "\n",
        "from sklearn.metrics import accuracy_score\n",
        "from sklearn.metrics import precision_score\n",
        "from sklearn.metrics import recall_score\n",
        "from sklearn.metrics import f1_score\n",
        "from sklearn.metrics import cohen_kappa_score\n",
        "from sklearn.metrics import roc_auc_score\n",
        "from sklearn.metrics import confusion_matrix\n",
        "from sklearn.metrics import roc_curve\n",
        "\n",
        "import pandas as pd\n",
        "import numpy as np\n",
        "\n",
        "import seaborn as sns\n",
        "import matplotlib.pyplot as plt\n",
        "%matplotlib inline\n"
      ],
      "id": "e5610bc5"
    },
    {
      "cell_type": "code",
      "source": [
        "args = Namespace(\n",
        "    dataset_csv = './olist_order_reviews_dataset.csv',\n",
        "    train_split = 0.8,\n",
        "    random_state = 26,\n",
        "    vocab_size = 10000,\n",
        "    embedding_dim = 20,\n",
        "    max_length = 120,\n",
        "    batch_size= 64,\n",
        "    num_epochs= 5,\n",
        "    early_stopping_criteria= 2,\n",
        "    dropout_p= 0.3,\n",
        "    model_storage=\"model_storage/lstm\",\n",
        ")"
      ],
      "metadata": {
        "id": "jVjArqlnjOb6"
      },
      "id": "jVjArqlnjOb6",
      "execution_count": 59,
      "outputs": []
    },
    {
      "cell_type": "markdown",
      "metadata": {
        "id": "9fa57fdc"
      },
      "source": [
        "### Funções auxiliares\n"
      ],
      "id": "9fa57fdc"
    },
    {
      "cell_type": "code",
      "execution_count": 30,
      "metadata": {
        "id": "a5ef7ccc"
      },
      "outputs": [],
      "source": [
        "def load_data(path, column_text='review_comment_message', column_score='review_score', points_cut = [0, 3, 5], classes = [0, 1]):\n",
        "    \"\"\"\n",
        "    Args\n",
        "        path - Dataframe\n",
        "        column_text - Column text\n",
        "        column_score - Random State\n",
        "        points_cut - Cut points in score\n",
        "        classes - Classes\n",
        "    Return\n",
        "        df - Dataframe loaded\n",
        "    \"\"\"\n",
        "    df = pd.read_csv(path)\n",
        "    df = df.dropna(subset=[column_text])\n",
        "\n",
        "    df['label'] = pd.cut(df[column_score], bins=points_cut, labels=classes)\n",
        "\n",
        "    df = df.rename(columns={column_text: 'text'})\n",
        "    df = df[['text','label']]\n",
        "\n",
        "    return df"
      ],
      "id": "a5ef7ccc"
    },
    {
      "cell_type": "code",
      "execution_count": 32,
      "metadata": {
        "colab": {
          "base_uri": "https://localhost:8080/",
          "height": 423
        },
        "id": "a487e300",
        "outputId": "7d81f8a8-5163-47eb-db5d-3c99dba2c9b6"
      },
      "outputs": [
        {
          "output_type": "execute_result",
          "data": {
            "text/plain": [
              "                                                    text label\n",
              "3                  Recebi bem antes do prazo estipulado.     1\n",
              "4      Parabéns lojas lannister adorei comprar pela I...     1\n",
              "9      aparelho eficiente. no site a marca do aparelh...     1\n",
              "12       Mas um pouco ,travando...pelo valor ta Boa.\\r\\n     1\n",
              "15     Vendedor confiável, produto ok e entrega antes...     1\n",
              "...                                                  ...   ...\n",
              "99205  para este produto recebi de acordo com a compr...     1\n",
              "99208  Entregou dentro do prazo. O produto chegou em ...     1\n",
              "99215  O produto não foi enviado com NF, não existe v...     0\n",
              "99221  Excelente mochila, entrega super rápida. Super...     1\n",
              "99223  meu produto chegou e ja tenho que devolver, po...     0\n",
              "\n",
              "[40977 rows x 2 columns]"
            ],
            "text/html": [
              "\n",
              "  <div id=\"df-a76666e5-9768-49fd-ae5b-b201586f6b2b\" class=\"colab-df-container\">\n",
              "    <div>\n",
              "<style scoped>\n",
              "    .dataframe tbody tr th:only-of-type {\n",
              "        vertical-align: middle;\n",
              "    }\n",
              "\n",
              "    .dataframe tbody tr th {\n",
              "        vertical-align: top;\n",
              "    }\n",
              "\n",
              "    .dataframe thead th {\n",
              "        text-align: right;\n",
              "    }\n",
              "</style>\n",
              "<table border=\"1\" class=\"dataframe\">\n",
              "  <thead>\n",
              "    <tr style=\"text-align: right;\">\n",
              "      <th></th>\n",
              "      <th>text</th>\n",
              "      <th>label</th>\n",
              "    </tr>\n",
              "  </thead>\n",
              "  <tbody>\n",
              "    <tr>\n",
              "      <th>3</th>\n",
              "      <td>Recebi bem antes do prazo estipulado.</td>\n",
              "      <td>1</td>\n",
              "    </tr>\n",
              "    <tr>\n",
              "      <th>4</th>\n",
              "      <td>Parabéns lojas lannister adorei comprar pela I...</td>\n",
              "      <td>1</td>\n",
              "    </tr>\n",
              "    <tr>\n",
              "      <th>9</th>\n",
              "      <td>aparelho eficiente. no site a marca do aparelh...</td>\n",
              "      <td>1</td>\n",
              "    </tr>\n",
              "    <tr>\n",
              "      <th>12</th>\n",
              "      <td>Mas um pouco ,travando...pelo valor ta Boa.\\r\\n</td>\n",
              "      <td>1</td>\n",
              "    </tr>\n",
              "    <tr>\n",
              "      <th>15</th>\n",
              "      <td>Vendedor confiável, produto ok e entrega antes...</td>\n",
              "      <td>1</td>\n",
              "    </tr>\n",
              "    <tr>\n",
              "      <th>...</th>\n",
              "      <td>...</td>\n",
              "      <td>...</td>\n",
              "    </tr>\n",
              "    <tr>\n",
              "      <th>99205</th>\n",
              "      <td>para este produto recebi de acordo com a compr...</td>\n",
              "      <td>1</td>\n",
              "    </tr>\n",
              "    <tr>\n",
              "      <th>99208</th>\n",
              "      <td>Entregou dentro do prazo. O produto chegou em ...</td>\n",
              "      <td>1</td>\n",
              "    </tr>\n",
              "    <tr>\n",
              "      <th>99215</th>\n",
              "      <td>O produto não foi enviado com NF, não existe v...</td>\n",
              "      <td>0</td>\n",
              "    </tr>\n",
              "    <tr>\n",
              "      <th>99221</th>\n",
              "      <td>Excelente mochila, entrega super rápida. Super...</td>\n",
              "      <td>1</td>\n",
              "    </tr>\n",
              "    <tr>\n",
              "      <th>99223</th>\n",
              "      <td>meu produto chegou e ja tenho que devolver, po...</td>\n",
              "      <td>0</td>\n",
              "    </tr>\n",
              "  </tbody>\n",
              "</table>\n",
              "<p>40977 rows × 2 columns</p>\n",
              "</div>\n",
              "    <div class=\"colab-df-buttons\">\n",
              "\n",
              "  <div class=\"colab-df-container\">\n",
              "    <button class=\"colab-df-convert\" onclick=\"convertToInteractive('df-a76666e5-9768-49fd-ae5b-b201586f6b2b')\"\n",
              "            title=\"Convert this dataframe to an interactive table.\"\n",
              "            style=\"display:none;\">\n",
              "\n",
              "  <svg xmlns=\"http://www.w3.org/2000/svg\" height=\"24px\" viewBox=\"0 -960 960 960\">\n",
              "    <path d=\"M120-120v-720h720v720H120Zm60-500h600v-160H180v160Zm220 220h160v-160H400v160Zm0 220h160v-160H400v160ZM180-400h160v-160H180v160Zm440 0h160v-160H620v160ZM180-180h160v-160H180v160Zm440 0h160v-160H620v160Z\"/>\n",
              "  </svg>\n",
              "    </button>\n",
              "\n",
              "  <style>\n",
              "    .colab-df-container {\n",
              "      display:flex;\n",
              "      gap: 12px;\n",
              "    }\n",
              "\n",
              "    .colab-df-convert {\n",
              "      background-color: #E8F0FE;\n",
              "      border: none;\n",
              "      border-radius: 50%;\n",
              "      cursor: pointer;\n",
              "      display: none;\n",
              "      fill: #1967D2;\n",
              "      height: 32px;\n",
              "      padding: 0 0 0 0;\n",
              "      width: 32px;\n",
              "    }\n",
              "\n",
              "    .colab-df-convert:hover {\n",
              "      background-color: #E2EBFA;\n",
              "      box-shadow: 0px 1px 2px rgba(60, 64, 67, 0.3), 0px 1px 3px 1px rgba(60, 64, 67, 0.15);\n",
              "      fill: #174EA6;\n",
              "    }\n",
              "\n",
              "    .colab-df-buttons div {\n",
              "      margin-bottom: 4px;\n",
              "    }\n",
              "\n",
              "    [theme=dark] .colab-df-convert {\n",
              "      background-color: #3B4455;\n",
              "      fill: #D2E3FC;\n",
              "    }\n",
              "\n",
              "    [theme=dark] .colab-df-convert:hover {\n",
              "      background-color: #434B5C;\n",
              "      box-shadow: 0px 1px 3px 1px rgba(0, 0, 0, 0.15);\n",
              "      filter: drop-shadow(0px 1px 2px rgba(0, 0, 0, 0.3));\n",
              "      fill: #FFFFFF;\n",
              "    }\n",
              "  </style>\n",
              "\n",
              "    <script>\n",
              "      const buttonEl =\n",
              "        document.querySelector('#df-a76666e5-9768-49fd-ae5b-b201586f6b2b button.colab-df-convert');\n",
              "      buttonEl.style.display =\n",
              "        google.colab.kernel.accessAllowed ? 'block' : 'none';\n",
              "\n",
              "      async function convertToInteractive(key) {\n",
              "        const element = document.querySelector('#df-a76666e5-9768-49fd-ae5b-b201586f6b2b');\n",
              "        const dataTable =\n",
              "          await google.colab.kernel.invokeFunction('convertToInteractive',\n",
              "                                                    [key], {});\n",
              "        if (!dataTable) return;\n",
              "\n",
              "        const docLinkHtml = 'Like what you see? Visit the ' +\n",
              "          '<a target=\"_blank\" href=https://colab.research.google.com/notebooks/data_table.ipynb>data table notebook</a>'\n",
              "          + ' to learn more about interactive tables.';\n",
              "        element.innerHTML = '';\n",
              "        dataTable['output_type'] = 'display_data';\n",
              "        await google.colab.output.renderOutput(dataTable, element);\n",
              "        const docLink = document.createElement('div');\n",
              "        docLink.innerHTML = docLinkHtml;\n",
              "        element.appendChild(docLink);\n",
              "      }\n",
              "    </script>\n",
              "  </div>\n",
              "\n",
              "\n",
              "<div id=\"df-3320ec1b-c049-4763-857a-f034f7f1ca44\">\n",
              "  <button class=\"colab-df-quickchart\" onclick=\"quickchart('df-3320ec1b-c049-4763-857a-f034f7f1ca44')\"\n",
              "            title=\"Suggest charts\"\n",
              "            style=\"display:none;\">\n",
              "\n",
              "<svg xmlns=\"http://www.w3.org/2000/svg\" height=\"24px\"viewBox=\"0 0 24 24\"\n",
              "     width=\"24px\">\n",
              "    <g>\n",
              "        <path d=\"M19 3H5c-1.1 0-2 .9-2 2v14c0 1.1.9 2 2 2h14c1.1 0 2-.9 2-2V5c0-1.1-.9-2-2-2zM9 17H7v-7h2v7zm4 0h-2V7h2v10zm4 0h-2v-4h2v4z\"/>\n",
              "    </g>\n",
              "</svg>\n",
              "  </button>\n",
              "\n",
              "<style>\n",
              "  .colab-df-quickchart {\n",
              "      --bg-color: #E8F0FE;\n",
              "      --fill-color: #1967D2;\n",
              "      --hover-bg-color: #E2EBFA;\n",
              "      --hover-fill-color: #174EA6;\n",
              "      --disabled-fill-color: #AAA;\n",
              "      --disabled-bg-color: #DDD;\n",
              "  }\n",
              "\n",
              "  [theme=dark] .colab-df-quickchart {\n",
              "      --bg-color: #3B4455;\n",
              "      --fill-color: #D2E3FC;\n",
              "      --hover-bg-color: #434B5C;\n",
              "      --hover-fill-color: #FFFFFF;\n",
              "      --disabled-bg-color: #3B4455;\n",
              "      --disabled-fill-color: #666;\n",
              "  }\n",
              "\n",
              "  .colab-df-quickchart {\n",
              "    background-color: var(--bg-color);\n",
              "    border: none;\n",
              "    border-radius: 50%;\n",
              "    cursor: pointer;\n",
              "    display: none;\n",
              "    fill: var(--fill-color);\n",
              "    height: 32px;\n",
              "    padding: 0;\n",
              "    width: 32px;\n",
              "  }\n",
              "\n",
              "  .colab-df-quickchart:hover {\n",
              "    background-color: var(--hover-bg-color);\n",
              "    box-shadow: 0 1px 2px rgba(60, 64, 67, 0.3), 0 1px 3px 1px rgba(60, 64, 67, 0.15);\n",
              "    fill: var(--button-hover-fill-color);\n",
              "  }\n",
              "\n",
              "  .colab-df-quickchart-complete:disabled,\n",
              "  .colab-df-quickchart-complete:disabled:hover {\n",
              "    background-color: var(--disabled-bg-color);\n",
              "    fill: var(--disabled-fill-color);\n",
              "    box-shadow: none;\n",
              "  }\n",
              "\n",
              "  .colab-df-spinner {\n",
              "    border: 2px solid var(--fill-color);\n",
              "    border-color: transparent;\n",
              "    border-bottom-color: var(--fill-color);\n",
              "    animation:\n",
              "      spin 1s steps(1) infinite;\n",
              "  }\n",
              "\n",
              "  @keyframes spin {\n",
              "    0% {\n",
              "      border-color: transparent;\n",
              "      border-bottom-color: var(--fill-color);\n",
              "      border-left-color: var(--fill-color);\n",
              "    }\n",
              "    20% {\n",
              "      border-color: transparent;\n",
              "      border-left-color: var(--fill-color);\n",
              "      border-top-color: var(--fill-color);\n",
              "    }\n",
              "    30% {\n",
              "      border-color: transparent;\n",
              "      border-left-color: var(--fill-color);\n",
              "      border-top-color: var(--fill-color);\n",
              "      border-right-color: var(--fill-color);\n",
              "    }\n",
              "    40% {\n",
              "      border-color: transparent;\n",
              "      border-right-color: var(--fill-color);\n",
              "      border-top-color: var(--fill-color);\n",
              "    }\n",
              "    60% {\n",
              "      border-color: transparent;\n",
              "      border-right-color: var(--fill-color);\n",
              "    }\n",
              "    80% {\n",
              "      border-color: transparent;\n",
              "      border-right-color: var(--fill-color);\n",
              "      border-bottom-color: var(--fill-color);\n",
              "    }\n",
              "    90% {\n",
              "      border-color: transparent;\n",
              "      border-bottom-color: var(--fill-color);\n",
              "    }\n",
              "  }\n",
              "</style>\n",
              "\n",
              "  <script>\n",
              "    async function quickchart(key) {\n",
              "      const quickchartButtonEl =\n",
              "        document.querySelector('#' + key + ' button');\n",
              "      quickchartButtonEl.disabled = true;  // To prevent multiple clicks.\n",
              "      quickchartButtonEl.classList.add('colab-df-spinner');\n",
              "      try {\n",
              "        const charts = await google.colab.kernel.invokeFunction(\n",
              "            'suggestCharts', [key], {});\n",
              "      } catch (error) {\n",
              "        console.error('Error during call to suggestCharts:', error);\n",
              "      }\n",
              "      quickchartButtonEl.classList.remove('colab-df-spinner');\n",
              "      quickchartButtonEl.classList.add('colab-df-quickchart-complete');\n",
              "    }\n",
              "    (() => {\n",
              "      let quickchartButtonEl =\n",
              "        document.querySelector('#df-3320ec1b-c049-4763-857a-f034f7f1ca44 button');\n",
              "      quickchartButtonEl.style.display =\n",
              "        google.colab.kernel.accessAllowed ? 'block' : 'none';\n",
              "    })();\n",
              "  </script>\n",
              "</div>\n",
              "\n",
              "  <div id=\"id_19e200d4-4ce4-497c-ad22-408d9bf3e05d\">\n",
              "    <style>\n",
              "      .colab-df-generate {\n",
              "        background-color: #E8F0FE;\n",
              "        border: none;\n",
              "        border-radius: 50%;\n",
              "        cursor: pointer;\n",
              "        display: none;\n",
              "        fill: #1967D2;\n",
              "        height: 32px;\n",
              "        padding: 0 0 0 0;\n",
              "        width: 32px;\n",
              "      }\n",
              "\n",
              "      .colab-df-generate:hover {\n",
              "        background-color: #E2EBFA;\n",
              "        box-shadow: 0px 1px 2px rgba(60, 64, 67, 0.3), 0px 1px 3px 1px rgba(60, 64, 67, 0.15);\n",
              "        fill: #174EA6;\n",
              "      }\n",
              "\n",
              "      [theme=dark] .colab-df-generate {\n",
              "        background-color: #3B4455;\n",
              "        fill: #D2E3FC;\n",
              "      }\n",
              "\n",
              "      [theme=dark] .colab-df-generate:hover {\n",
              "        background-color: #434B5C;\n",
              "        box-shadow: 0px 1px 3px 1px rgba(0, 0, 0, 0.15);\n",
              "        filter: drop-shadow(0px 1px 2px rgba(0, 0, 0, 0.3));\n",
              "        fill: #FFFFFF;\n",
              "      }\n",
              "    </style>\n",
              "    <button class=\"colab-df-generate\" onclick=\"generateWithVariable('df')\"\n",
              "            title=\"Generate code using this dataframe.\"\n",
              "            style=\"display:none;\">\n",
              "\n",
              "  <svg xmlns=\"http://www.w3.org/2000/svg\" height=\"24px\"viewBox=\"0 0 24 24\"\n",
              "       width=\"24px\">\n",
              "    <path d=\"M7,19H8.4L18.45,9,17,7.55,7,17.6ZM5,21V16.75L18.45,3.32a2,2,0,0,1,2.83,0l1.4,1.43a1.91,1.91,0,0,1,.58,1.4,1.91,1.91,0,0,1-.58,1.4L9.25,21ZM18.45,9,17,7.55Zm-12,3A5.31,5.31,0,0,0,4.9,8.1,5.31,5.31,0,0,0,1,6.5,5.31,5.31,0,0,0,4.9,4.9,5.31,5.31,0,0,0,6.5,1,5.31,5.31,0,0,0,8.1,4.9,5.31,5.31,0,0,0,12,6.5,5.46,5.46,0,0,0,6.5,12Z\"/>\n",
              "  </svg>\n",
              "    </button>\n",
              "    <script>\n",
              "      (() => {\n",
              "      const buttonEl =\n",
              "        document.querySelector('#id_19e200d4-4ce4-497c-ad22-408d9bf3e05d button.colab-df-generate');\n",
              "      buttonEl.style.display =\n",
              "        google.colab.kernel.accessAllowed ? 'block' : 'none';\n",
              "\n",
              "      buttonEl.onclick = () => {\n",
              "        google.colab.notebook.generateWithVariable('df');\n",
              "      }\n",
              "      })();\n",
              "    </script>\n",
              "  </div>\n",
              "\n",
              "    </div>\n",
              "  </div>\n"
            ]
          },
          "metadata": {},
          "execution_count": 32
        }
      ],
      "source": [
        "df = load_data('/olist_order_reviews_dataset.csv')\n",
        "df"
      ],
      "id": "a487e300"
    },
    {
      "cell_type": "markdown",
      "metadata": {
        "id": "966be6ea"
      },
      "source": [
        "Após tratar os dados, restam cera de 41.000 comentários a ser usados. Divisão de treino/validação/teste será 7:1:2."
      ],
      "id": "966be6ea"
    },
    {
      "cell_type": "code",
      "execution_count": 33,
      "metadata": {
        "id": "c9894b15"
      },
      "outputs": [],
      "source": [
        "import numpy as np\n",
        "\n",
        "def split_test_train(data, split_train=0.8, random_state=200):\n",
        "    \"\"\"\n",
        "    Args\n",
        "        df - Dataframe\n",
        "        split_train - Percent of subset train\n",
        "        random_state - Random State\n",
        "    Return\n",
        "        training_sentence - training subset with text\n",
        "        training_label - training subset with label\n",
        "        test_sentence - test subset with text\n",
        "        test_label - test subset with label\n",
        "    \"\"\"\n",
        "    df_train = data.sample(frac = split_train, random_state = random_state)\n",
        "    df_test = data.drop(df_train.index)\n",
        "\n",
        "    training_sentences = []\n",
        "    training_labels = []\n",
        "    testing_sentences = []\n",
        "    testing_labels = []\n",
        "    for index, train in df_train.iterrows():\n",
        "        training_sentences.append(str(train['text']))\n",
        "        training_labels.append(train['label'])\n",
        "\n",
        "    for index, test in df_test.iterrows():\n",
        "        testing_sentences.append(str(test['text']))\n",
        "        testing_labels.append(test['label'])\n",
        "\n",
        "    return training_sentences, training_labels, testing_sentences, testing_labels"
      ],
      "id": "c9894b15"
    },
    {
      "cell_type": "code",
      "execution_count": 34,
      "metadata": {
        "id": "6d551f72"
      },
      "outputs": [],
      "source": [
        "training_sentences, training_labels, test_sentences, test_labels = split_test_train(df, split_train=args.train_split, random_state=args.random_state)"
      ],
      "id": "6d551f72"
    },
    {
      "cell_type": "markdown",
      "metadata": {
        "id": "c3299195"
      },
      "source": [
        "### Pré-processamento"
      ],
      "id": "c3299195"
    },
    {
      "cell_type": "code",
      "execution_count": 35,
      "metadata": {
        "id": "b24ae74c"
      },
      "outputs": [],
      "source": [
        "oov_tok = \"<OOV>\"\n",
        "tokenizer = Tokenizer(num_words = args.vocab_size, oov_token=oov_tok)\n",
        "tokenizer.fit_on_texts(training_sentences)\n",
        "\n",
        "def preprocess(training_sentences, testing_sentences, max_length, vocab_size, trunc_type='post', oov_tok = \"<OOV>\"):\n",
        "    \"\"\"\n",
        "    Args\n",
        "        training_sentences\n",
        "        training_labels\n",
        "        testing_sentences\n",
        "        testing_labels\n",
        "    Return\n",
        "        training_sentences\n",
        "        training_labels\n",
        "        testing_sentences\n",
        "        testing_labels\n",
        "    \"\"\"\n",
        "    training_sentences = tokenizer.texts_to_sequences(training_sentences)\n",
        "    training_padded = pad_sequences(training_sentences,maxlen=max_length, truncating=trunc_type)\n",
        "\n",
        "    testing_sequences = tokenizer.texts_to_sequences(testing_sentences)\n",
        "    testing_padded = pad_sequences(testing_sequences,maxlen=max_length)\n",
        "    return training_padded, testing_padded"
      ],
      "id": "b24ae74c"
    },
    {
      "cell_type": "code",
      "execution_count": 39,
      "metadata": {
        "id": "e7637e6f"
      },
      "outputs": [],
      "source": [
        "training_sentences, test_sentences = preprocess(training_sentences, test_sentences, args.max_length, args.vocab_size)"
      ],
      "id": "e7637e6f"
    },
    {
      "cell_type": "markdown",
      "metadata": {
        "id": "3b09d361"
      },
      "source": [
        "### Modelo"
      ],
      "id": "3b09d361"
    },
    {
      "cell_type": "code",
      "execution_count": 36,
      "metadata": {
        "id": "w1TKHtBUlh_7",
        "colab": {
          "base_uri": "https://localhost:8080/"
        },
        "outputId": "51b2ce43-f8e5-43de-f132-e5e461bb0815"
      },
      "outputs": [
        {
          "output_type": "stream",
          "name": "stderr",
          "text": [
            "<ipython-input-36-c7d9b9fe77ba>:4: DeprecationWarning: `import kerastuner` is deprecated, please use `import keras_tuner`.\n",
            "  from kerastuner import HyperParameters\n"
          ]
        }
      ],
      "source": [
        "import keras_tuner\n",
        "import keras\n",
        "import tensorflow as tf\n",
        "from kerastuner import HyperParameters\n",
        "\n",
        "\n",
        "def create_model(hp):\n",
        "    max_length = args.max_length\n",
        "    vocab_size = args.vocab_size\n",
        "\n",
        "    embedding_dim = hp.Int('embedding_dim', min_value=32, max_value=128, step=32)\n",
        "    lstm_units = hp.Int('lstm_units', min_value=16, max_value=64, step=16)\n",
        "    dropout_rate = hp.Float('dropout_rate', min_value=0.3, max_value=0.7, step=0.1)\n",
        "\n",
        "    input = tf.keras.Input(shape=(max_length,))\n",
        "    x = tf.keras.layers.Embedding(vocab_size, embedding_dim, input_length=max_length)(input)\n",
        "\n",
        "    x = tf.keras.layers.LSTM(lstm_units, return_sequences=True)(x)\n",
        "    x = tf.keras.layers.LSTM(lstm_units)(x)\n",
        "\n",
        "    x = tf.keras.layers.Dropout(dropout_rate)(x)\n",
        "\n",
        "    x = tf.keras.layers.Dense(32, activation='relu')(x)\n",
        "\n",
        "    output = tf.keras.layers.Dense(1, activation='sigmoid')(x)\n",
        "\n",
        "    model = tf.keras.Model(input, output)\n",
        "    model.compile(optimizer='adam', loss='binary_crossentropy', metrics=['accuracy'])\n",
        "\n",
        "    return model\n",
        "\n",
        "tuner = keras_tuner.Hyperband(\n",
        "    create_model,\n",
        "    objective='val_accuracy',\n",
        "    max_epochs=30,\n",
        "    directory='my_dir',\n",
        "    project_name='lstm_tuning'\n",
        ")\n",
        "\n"
      ],
      "id": "w1TKHtBUlh_7"
    },
    {
      "cell_type": "markdown",
      "source": [
        "### Separando os dados de treino e validação"
      ],
      "metadata": {
        "id": "yNAmEHYzjYuN"
      },
      "id": "yNAmEHYzjYuN"
    },
    {
      "cell_type": "code",
      "execution_count": 41,
      "metadata": {
        "id": "LAb0Qn1JluOZ"
      },
      "outputs": [],
      "source": [
        "x_val = training_sentences[:4100].copy()\n",
        "x_train = training_sentences[4100:].copy()\n",
        "y_val = training_labels[:4100].copy()\n",
        "y_train = training_labels[4100:].copy()\n",
        "y_train = np.array(y_train)\n",
        "y_val = np.array(y_val)"
      ],
      "id": "LAb0Qn1JluOZ"
    },
    {
      "cell_type": "code",
      "execution_count": 42,
      "metadata": {
        "id": "8oTRryE2ltXQ",
        "colab": {
          "base_uri": "https://localhost:8080/"
        },
        "outputId": "0e846f0a-d977-4b09-c2d5-008bdbddfc5d"
      },
      "outputs": [
        {
          "output_type": "stream",
          "name": "stdout",
          "text": [
            "Trial 82 Complete [00h 01m 11s]\n",
            "val_accuracy: 0.9004877805709839\n",
            "\n",
            "Best val_accuracy So Far: 0.9048780202865601\n",
            "Total elapsed time: 01h 09m 37s\n"
          ]
        }
      ],
      "source": [
        "tuner.search(x_train, y_train, epochs=30, validation_data=(x_val, y_val), callbacks=[tf.keras.callbacks.EarlyStopping(patience=3)])\n"
      ],
      "id": "8oTRryE2ltXQ"
    },
    {
      "cell_type": "markdown",
      "source": [
        "### Melhores dez modelos testados pelo tuner"
      ],
      "metadata": {
        "id": "lzBbu2zJjhOl"
      },
      "id": "lzBbu2zJjhOl"
    },
    {
      "cell_type": "code",
      "source": [
        "tuner.results_summary()"
      ],
      "metadata": {
        "colab": {
          "base_uri": "https://localhost:8080/"
        },
        "id": "vR2X3BR3d2Sa",
        "outputId": "b99ccbb0-ac43-48e7-9d56-baf543c699cf"
      },
      "id": "vR2X3BR3d2Sa",
      "execution_count": 49,
      "outputs": [
        {
          "output_type": "stream",
          "name": "stdout",
          "text": [
            "Results summary\n",
            "Results in my_dir/lstm_tuning\n",
            "Showing 10 best trials\n",
            "Objective(name=\"val_accuracy\", direction=\"max\")\n",
            "\n",
            "Trial 0079 summary\n",
            "Hyperparameters:\n",
            "embedding_dim: 96\n",
            "lstm_units: 64\n",
            "dropout_rate: 0.4\n",
            "tuner/epochs: 30\n",
            "tuner/initial_epoch: 0\n",
            "tuner/bracket: 0\n",
            "tuner/round: 0\n",
            "Score: 0.9048780202865601\n",
            "\n",
            "Trial 0023 summary\n",
            "Hyperparameters:\n",
            "embedding_dim: 96\n",
            "lstm_units: 64\n",
            "dropout_rate: 0.5\n",
            "tuner/epochs: 2\n",
            "tuner/initial_epoch: 0\n",
            "tuner/bracket: 3\n",
            "tuner/round: 0\n",
            "Score: 0.9036585092544556\n",
            "\n",
            "Trial 0029 summary\n",
            "Hyperparameters:\n",
            "embedding_dim: 32\n",
            "lstm_units: 48\n",
            "dropout_rate: 0.5\n",
            "tuner/epochs: 2\n",
            "tuner/initial_epoch: 0\n",
            "tuner/bracket: 3\n",
            "tuner/round: 0\n",
            "Score: 0.9036585092544556\n",
            "\n",
            "Trial 0043 summary\n",
            "Hyperparameters:\n",
            "embedding_dim: 128\n",
            "lstm_units: 48\n",
            "dropout_rate: 0.5\n",
            "tuner/epochs: 4\n",
            "tuner/initial_epoch: 2\n",
            "tuner/bracket: 3\n",
            "tuner/round: 1\n",
            "tuner/trial_id: 0016\n",
            "Score: 0.9036585092544556\n",
            "\n",
            "Trial 0049 summary\n",
            "Hyperparameters:\n",
            "embedding_dim: 64\n",
            "lstm_units: 48\n",
            "dropout_rate: 0.4\n",
            "tuner/epochs: 4\n",
            "tuner/initial_epoch: 0\n",
            "tuner/bracket: 2\n",
            "tuner/round: 0\n",
            "Score: 0.9036585092544556\n",
            "\n",
            "Trial 0051 summary\n",
            "Hyperparameters:\n",
            "embedding_dim: 128\n",
            "lstm_units: 32\n",
            "dropout_rate: 0.6000000000000001\n",
            "tuner/epochs: 4\n",
            "tuner/initial_epoch: 0\n",
            "tuner/bracket: 2\n",
            "tuner/round: 0\n",
            "Score: 0.9036585092544556\n",
            "\n",
            "Trial 0020 summary\n",
            "Hyperparameters:\n",
            "embedding_dim: 96\n",
            "lstm_units: 32\n",
            "dropout_rate: 0.4\n",
            "tuner/epochs: 2\n",
            "tuner/initial_epoch: 0\n",
            "tuner/bracket: 3\n",
            "tuner/round: 0\n",
            "Score: 0.9034146070480347\n",
            "\n",
            "Trial 0028 summary\n",
            "Hyperparameters:\n",
            "embedding_dim: 128\n",
            "lstm_units: 16\n",
            "dropout_rate: 0.5\n",
            "tuner/epochs: 2\n",
            "tuner/initial_epoch: 0\n",
            "tuner/bracket: 3\n",
            "tuner/round: 0\n",
            "Score: 0.9034146070480347\n",
            "\n",
            "Trial 0059 summary\n",
            "Hyperparameters:\n",
            "embedding_dim: 96\n",
            "lstm_units: 32\n",
            "dropout_rate: 0.3\n",
            "tuner/epochs: 4\n",
            "tuner/initial_epoch: 0\n",
            "tuner/bracket: 2\n",
            "tuner/round: 0\n",
            "Score: 0.9034146070480347\n",
            "\n",
            "Trial 0069 summary\n",
            "Hyperparameters:\n",
            "embedding_dim: 64\n",
            "lstm_units: 32\n",
            "dropout_rate: 0.3\n",
            "tuner/epochs: 10\n",
            "tuner/initial_epoch: 0\n",
            "tuner/bracket: 1\n",
            "tuner/round: 0\n",
            "Score: 0.9031707048416138\n"
          ]
        }
      ]
    },
    {
      "cell_type": "markdown",
      "source": [
        "### Obtendo o melhor modelo"
      ],
      "metadata": {
        "id": "lR9LEZZWjmDc"
      },
      "id": "lR9LEZZWjmDc"
    },
    {
      "cell_type": "code",
      "source": [
        "best_hps = tuner.get_best_hyperparameters(num_trials=1)[0]"
      ],
      "metadata": {
        "id": "SeeeQWCOfjxB"
      },
      "id": "SeeeQWCOfjxB",
      "execution_count": 51,
      "outputs": []
    },
    {
      "cell_type": "code",
      "execution_count": 47,
      "metadata": {
        "id": "MkDXVYI11zLP"
      },
      "outputs": [],
      "source": [
        "model = tuner.hypermodel.build(best_hps)"
      ],
      "id": "MkDXVYI11zLP"
    },
    {
      "cell_type": "code",
      "execution_count": 50,
      "metadata": {
        "id": "G3tUqsTX0G1c",
        "colab": {
          "base_uri": "https://localhost:8080/"
        },
        "outputId": "8b78574c-1d19-41a6-f9e7-2f89b9ace648"
      },
      "outputs": [
        {
          "output_type": "stream",
          "name": "stdout",
          "text": [
            "Epoch 1/30\n",
            "897/897 [==============================] - 12s 13ms/step - loss: 0.1967 - accuracy: 0.9335 - val_loss: 0.2795 - val_accuracy: 0.8976\n",
            "Epoch 2/30\n",
            "897/897 [==============================] - 11s 12ms/step - loss: 0.1658 - accuracy: 0.9442 - val_loss: 0.3217 - val_accuracy: 0.8910\n",
            "Epoch 3/30\n",
            "897/897 [==============================] - 11s 12ms/step - loss: 0.1445 - accuracy: 0.9531 - val_loss: 0.3722 - val_accuracy: 0.8868\n",
            "Epoch 4/30\n",
            "897/897 [==============================] - 11s 12ms/step - loss: 0.1258 - accuracy: 0.9603 - val_loss: 0.3668 - val_accuracy: 0.8807\n",
            "Epoch 5/30\n",
            "897/897 [==============================] - 11s 12ms/step - loss: 0.1127 - accuracy: 0.9650 - val_loss: 0.4297 - val_accuracy: 0.8812\n",
            "Epoch 6/30\n",
            "897/897 [==============================] - 10s 12ms/step - loss: 0.1052 - accuracy: 0.9679 - val_loss: 0.4487 - val_accuracy: 0.8829\n",
            "Epoch 7/30\n",
            "897/897 [==============================] - 11s 12ms/step - loss: 0.0979 - accuracy: 0.9696 - val_loss: 0.4591 - val_accuracy: 0.8829\n",
            "Epoch 8/30\n",
            "897/897 [==============================] - 11s 12ms/step - loss: 0.0928 - accuracy: 0.9712 - val_loss: 0.5384 - val_accuracy: 0.8812\n",
            "Epoch 9/30\n",
            "897/897 [==============================] - 10s 12ms/step - loss: 0.0840 - accuracy: 0.9742 - val_loss: 0.5459 - val_accuracy: 0.8800\n",
            "Epoch 10/30\n",
            "897/897 [==============================] - 11s 12ms/step - loss: 0.0793 - accuracy: 0.9753 - val_loss: 0.6405 - val_accuracy: 0.8815\n",
            "Epoch 11/30\n",
            "897/897 [==============================] - 11s 12ms/step - loss: 0.0787 - accuracy: 0.9762 - val_loss: 0.6097 - val_accuracy: 0.8776\n",
            "Epoch 12/30\n",
            "897/897 [==============================] - 11s 12ms/step - loss: 0.0762 - accuracy: 0.9760 - val_loss: 0.6059 - val_accuracy: 0.8776\n",
            "Epoch 13/30\n",
            "897/897 [==============================] - 11s 12ms/step - loss: 0.0710 - accuracy: 0.9781 - val_loss: 0.7136 - val_accuracy: 0.8790\n",
            "Epoch 14/30\n",
            "897/897 [==============================] - 10s 12ms/step - loss: 0.0668 - accuracy: 0.9794 - val_loss: 0.7085 - val_accuracy: 0.8810\n",
            "Epoch 15/30\n",
            "897/897 [==============================] - 10s 12ms/step - loss: 0.0711 - accuracy: 0.9774 - val_loss: 0.6551 - val_accuracy: 0.8793\n",
            "Epoch 16/30\n",
            "897/897 [==============================] - 10s 12ms/step - loss: 0.0632 - accuracy: 0.9804 - val_loss: 0.7472 - val_accuracy: 0.8807\n",
            "Epoch 17/30\n",
            "897/897 [==============================] - 10s 12ms/step - loss: 0.0638 - accuracy: 0.9797 - val_loss: 0.6778 - val_accuracy: 0.8810\n",
            "Epoch 18/30\n",
            "897/897 [==============================] - 10s 12ms/step - loss: 0.0622 - accuracy: 0.9812 - val_loss: 0.7866 - val_accuracy: 0.8793\n",
            "Epoch 19/30\n",
            "897/897 [==============================] - 10s 11ms/step - loss: 0.0635 - accuracy: 0.9800 - val_loss: 0.6896 - val_accuracy: 0.8790\n",
            "Epoch 20/30\n",
            "897/897 [==============================] - 10s 12ms/step - loss: 0.0581 - accuracy: 0.9818 - val_loss: 0.8138 - val_accuracy: 0.8661\n",
            "Epoch 21/30\n",
            "897/897 [==============================] - 10s 12ms/step - loss: 0.0590 - accuracy: 0.9811 - val_loss: 0.7986 - val_accuracy: 0.8778\n",
            "Epoch 22/30\n",
            "897/897 [==============================] - 11s 12ms/step - loss: 0.0554 - accuracy: 0.9828 - val_loss: 0.9091 - val_accuracy: 0.8771\n",
            "Epoch 23/30\n",
            "897/897 [==============================] - 11s 12ms/step - loss: 0.0563 - accuracy: 0.9818 - val_loss: 0.7653 - val_accuracy: 0.8761\n",
            "Epoch 24/30\n",
            "897/897 [==============================] - 10s 12ms/step - loss: 0.0549 - accuracy: 0.9823 - val_loss: 0.8228 - val_accuracy: 0.8820\n",
            "Epoch 25/30\n",
            "897/897 [==============================] - 10s 12ms/step - loss: 0.0538 - accuracy: 0.9827 - val_loss: 0.8218 - val_accuracy: 0.8727\n",
            "Epoch 26/30\n",
            "897/897 [==============================] - 10s 12ms/step - loss: 0.0521 - accuracy: 0.9830 - val_loss: 0.8846 - val_accuracy: 0.8832\n",
            "Epoch 27/30\n",
            "897/897 [==============================] - 11s 12ms/step - loss: 0.0521 - accuracy: 0.9828 - val_loss: 0.8399 - val_accuracy: 0.8768\n",
            "Epoch 28/30\n",
            "897/897 [==============================] - 11s 12ms/step - loss: 0.0494 - accuracy: 0.9840 - val_loss: 0.8980 - val_accuracy: 0.8773\n",
            "Epoch 29/30\n",
            "897/897 [==============================] - 10s 12ms/step - loss: 0.0480 - accuracy: 0.9843 - val_loss: 0.9894 - val_accuracy: 0.8837\n",
            "Epoch 30/30\n",
            "897/897 [==============================] - 10s 12ms/step - loss: 0.0479 - accuracy: 0.9845 - val_loss: 0.9429 - val_accuracy: 0.8841\n"
          ]
        }
      ],
      "source": [
        "earlyStoppingCallback = tf.keras.callbacks.EarlyStopping(monitor='loss', patience=args.early_stopping_criteria)\n",
        "\n",
        "history = model.fit(x_train, y_train, epochs=30, validation_data=(x_val, y_val))\n"
      ],
      "id": "G3tUqsTX0G1c"
    },
    {
      "cell_type": "code",
      "source": [
        "plt.figure(figsize = (8,5))\n",
        "plt.plot(history.history['accuracy'])\n",
        "plt.plot(history.history['val_accuracy'])\n",
        "plt.title('Curva de Acurácia', fontsize = 16)\n",
        "plt.ylabel('Acurácia')\n",
        "plt.xlabel('Epoca')\n",
        "plt.legend(['treino', 'validação'], loc='upper left')\n",
        "plt.show()"
      ],
      "metadata": {
        "colab": {
          "base_uri": "https://localhost:8080/",
          "height": 469
        },
        "id": "t9DK7EwkfwCT",
        "outputId": "66f50744-a8f4-47aa-f602-2bbf316f0dc3"
      },
      "id": "t9DK7EwkfwCT",
      "execution_count": 53,
      "outputs": [
        {
          "output_type": "display_data",
          "data": {
            "text/plain": [
              "<Figure size 800x500 with 1 Axes>"
            ],
            "image/png": "[encoded data removed]"
          },
          "metadata": {}
        }
      ]
    },
    {
      "cell_type": "code",
      "source": [
        "plt.figure(figsize = (8,5))\n",
        "plt.plot(history.history['loss'])\n",
        "plt.plot(history.history['val_loss'])\n",
        "plt.title('Curva de Perda', fontsize = 16)\n",
        "plt.ylabel('perda')\n",
        "plt.xlabel('epoca')\n",
        "plt.legend(['treino', 'validação'], loc='upper right')\n",
        "plt.show()"
      ],
      "metadata": {
        "colab": {
          "base_uri": "https://localhost:8080/",
          "height": 509
        },
        "id": "5yXkZv83fwd2",
        "outputId": "65fc27b2-eb9a-456e-c3c2-e1fa9939f4fd"
      },
      "id": "5yXkZv83fwd2",
      "execution_count": 54,
      "outputs": [
        {
          "output_type": "display_data",
          "data": {
            "text/plain": [
              "<Figure size 800x500 with 1 Axes>"
            ],
            "image/png": "[encoded data removed]"
          },
          "metadata": {}
        }
      ]
    },
    {
      "cell_type": "markdown",
      "source": [
        "### Testando o modelo"
      ],
      "metadata": {
        "id": "yTmC_25ri84X"
      },
      "id": "yTmC_25ri84X"
    },
    {
      "cell_type": "code",
      "source": [
        "y_predicted_prob = model.predict(test_sentences, verbose=1)\n",
        "y_predicted_classes = np.where(y_predicted_prob > 0.5, 1, 0)\n",
        "\n",
        "y_predicted_prob = y_predicted_prob[:, 0]\n",
        "y_predicted_classes = y_predicted_classes[:, 0]"
      ],
      "metadata": {
        "colab": {
          "base_uri": "https://localhost:8080/"
        },
        "id": "yyzDeW90gBf9",
        "outputId": "7e25b198-8d88-40e4-d09b-ed333863ecad"
      },
      "id": "yyzDeW90gBf9",
      "execution_count": 55,
      "outputs": [
        {
          "output_type": "stream",
          "name": "stdout",
          "text": [
            "257/257 [==============================] - 2s 4ms/step\n"
          ]
        }
      ]
    },
    {
      "cell_type": "code",
      "source": [
        "accuracy = accuracy_score(test_labels, y_predicted_classes)\n",
        "print('Accuracy: %f' % accuracy)\n",
        "\n",
        "precision = precision_score(test_labels, y_predicted_classes)\n",
        "print('Precision: %f' % precision)\n",
        "\n",
        "recall = recall_score(test_labels, y_predicted_classes)\n",
        "print('Recall: %f' % recall)\n",
        "\n",
        "f1 = f1_score(test_labels, y_predicted_classes)\n",
        "print('F1 score: %f' % f1)"
      ],
      "metadata": {
        "colab": {
          "base_uri": "https://localhost:8080/"
        },
        "id": "wdoaE4Loga47",
        "outputId": "4eccabfb-15cd-487e-9833-18a2c35a54d9"
      },
      "id": "wdoaE4Loga47",
      "execution_count": 56,
      "outputs": [
        {
          "output_type": "stream",
          "name": "stdout",
          "text": [
            "Accuracy: 0.874436\n",
            "Precision: 0.900546\n",
            "Recall: 0.905150\n",
            "F1 score: 0.902842\n"
          ]
        }
      ]
    },
    {
      "cell_type": "markdown",
      "source": [
        "### Matriz de confusão"
      ],
      "metadata": {
        "id": "jlKLWZJHi5OL"
      },
      "id": "jlKLWZJHi5OL"
    },
    {
      "cell_type": "code",
      "source": [
        "data = confusion_matrix(test_labels, y_predicted_classes)\n",
        "df_cm = pd.DataFrame(data, columns=np.unique(y_predicted_classes), index = np.unique(y_predicted_classes))\n",
        "df_cm.index.name = 'Real'\n",
        "df_cm.columns.name = 'Previsto'\n",
        "plt.figure(figsize = (8,5))\n",
        "plt.title('Matriz de Confusão', fontsize = 20)\n",
        "\n",
        "sns.set(font_scale=1.4)\n",
        "ax = sns.heatmap(df_cm, cbar=False, cmap=\"Blues\", annot=True, annot_kws={\"size\": 16}, fmt='g')"
      ],
      "metadata": {
        "colab": {
          "base_uri": "https://localhost:8080/",
          "height": 487
        },
        "id": "xxDfUJn2iXbX",
        "outputId": "b0ed8815-c363-4228-8910-9e8cb736594f"
      },
      "id": "xxDfUJn2iXbX",
      "execution_count": 58,
      "outputs": [
        {
          "output_type": "display_data",
          "data": {
            "text/plain": [
              "<Figure size 800x500 with 1 Axes>"
            ],
            "image/png": "[encoded data removed]"
          },
          "metadata": {}
        }
      ]
    },
    {
      "cell_type": "markdown",
      "source": [
        "### ROC"
      ],
      "metadata": {
        "id": "4jqPdmcmiAca"
      },
      "id": "4jqPdmcmiAca"
    },
    {
      "cell_type": "code",
      "source": [
        "fpr, tpr, _ = roc_curve(test_labels, y_predicted_prob)\n",
        "auc = roc_auc_score(test_labels, y_predicted_prob)\n",
        "plt.figure(figsize = (8,5))\n",
        "\n",
        "plt.plot(fpr,tpr,label=\"LSTM , auc=\"+str(round(auc,2)))\n",
        "plt.title('Curva ROC - LSTM', fontsize = 16)\n",
        "plt.legend(loc=4)\n",
        "plt.show()"
      ],
      "metadata": {
        "colab": {
          "base_uri": "https://localhost:8080/",
          "height": 470
        },
        "id": "zo5XIuJniBot",
        "outputId": "0ad22133-2ab5-43de-c619-dd81413d2779"
      },
      "id": "zo5XIuJniBot",
      "execution_count": 57,
      "outputs": [
        {
          "output_type": "display_data",
          "data": {
            "text/plain": [
              "<Figure size 800x500 with 1 Axes>"
            ],
            "image/png": "[encoded data removed]"
          },
          "metadata": {}
        }
      ]
    }
  ],
  "metadata": {
    "accelerator": "GPU",
    "colab": {
      "provenance": []
    },
    "kernelspec": {
      "display_name": "Python 3",
      "name": "python3"
    },
    "language_info": {
      "codemirror_mode": {
        "name": "ipython",
        "version": 3
      },
      "file_extension": ".py",
      "mimetype": "text/x-python",
      "name": "python",
      "nbconvert_exporter": "python",
      "pygments_lexer": "ipython3",
      "version": "3.8.10"
    },
    "papermill": {
      "default_parameters": {},
      "duration": 102.774228,
      "end_time": "2021-08-18T19:35:02.371531",
      "environment_variables": {},
      "exception": null,
      "input_path": "__notebook__.ipynb",
      "output_path": "__notebook__.ipynb",
      "parameters": {},
      "start_time": "2021-08-18T19:33:19.597303",
      "version": "2.3.3"
    }
  },
  "nbformat": 4,
  "nbformat_minor": 5
}